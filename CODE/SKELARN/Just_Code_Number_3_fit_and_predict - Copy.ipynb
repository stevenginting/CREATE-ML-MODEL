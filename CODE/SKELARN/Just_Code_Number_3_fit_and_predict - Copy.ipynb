{
 "cells": [
  {
   "cell_type": "markdown",
   "id": "c1eb15e6-70d0-457a-977c-fd9829dd9f04",
   "metadata": {},
   "source": [
    "### STEP BY STEP\n",
    "##### 1.Getting the data ready\n",
    "##### 2.Choose the right estimator/algorithm for our problems\n",
    "##### 3.Fit the model/algorithm and use it to make predictions on our data\n",
    "##### 4.Evaluating a model\n",
    "##### 5.Improve a model\n",
    "##### 6.Save and load a trained model\n",
    "##### 7.Putting it all together"
   ]
  },
  {
   "cell_type": "markdown",
   "id": "559e1e2b-bec1-4130-80aa-a645fd8469ad",
   "metadata": {},
   "source": [
    "### 0.An end-to-end scikit learn workflow"
   ]
  },
  {
   "cell_type": "markdown",
   "id": "fdfb684e-a5db-485f-bcc9-01b40686229f",
   "metadata": {},
   "source": [
    "# SCROLL DOWN"
   ]
  },
  {
   "cell_type": "markdown",
   "id": "814da35b-d8cf-45dc-8598-285575f168da",
   "metadata": {},
   "source": [
    "# SCROLL DOWN"
   ]
  },
  {
   "cell_type": "markdown",
   "id": "abfb7289-7603-4d89-b04a-a4482c7c87b6",
   "metadata": {},
   "source": [
    "## 3.Fit the model/algorithm on our data and use it to make prediction"
   ]
  },
  {
   "cell_type": "markdown",
   "id": "a08859a9-a1b5-4b2b-9632-f4689a604eec",
   "metadata": {},
   "source": [
    "  ### 3.1 Fitting the model to the data\n",
    "  diffrent names for:\n",
    "  * 'X' = features,deatures variable,data\n",
    "  * 'y' = lables,targets,targets variable"
   ]
  },
  {
   "cell_type": "code",
   "execution_count": 121,
   "id": "6e901e86-fa9b-4226-9ab0-0aae6248b695",
   "metadata": {},
   "outputs": [
    {
     "data": {
      "text/plain": [
       "0.8524590163934426"
      ]
     },
     "execution_count": 121,
     "metadata": {},
     "output_type": "execute_result"
    }
   ],
   "source": [
    "#import the RandomForestClassifier estimator class\n",
    "from sklearn.ensemble import RandomForestClassifier\n",
    "\n",
    "#setup random seed\n",
    "np.random.seed(42)\n",
    "\n",
    "#make the data\n",
    "X = hd.drop(\"target\",axis = 1)\n",
    "y = hd[\"target\"]\n",
    "\n",
    "#Split the data\n",
    "X_train,X_test,y_train,y_test = train_test_split(X,y,test_size=0.2)\n",
    "\n",
    "#Intantiate LinearSVC and fit the data\n",
    "clf = RandomForestClassifier()\n",
    "clf.fit(X_train,y_train)\n",
    "\n",
    "#check score\n",
    "clf.score(X_test,y_test)"
   ]
  },
  {
   "cell_type": "markdown",
   "id": "b623c367-3ebc-4801-baa0-d04398418e7f",
   "metadata": {},
   "source": [
    "### 3.2 Make predictions using a machine learning model\n",
    "2 wats to make predictions:\n",
    "* predict()\n",
    "* predict_proba()"
   ]
  },
  {
   "cell_type": "code",
   "execution_count": 125,
   "id": "2d9a464a-52b6-430f-aee8-efff4e992118",
   "metadata": {},
   "outputs": [
    {
     "data": {
      "text/plain": [
       "array([0, 1, 1, 0, 1, 1, 1, 0, 0, 1, 1, 0, 1, 0, 1, 1, 1, 0, 0, 0, 0, 0,\n",
       "       1, 1, 1, 1, 1, 1, 0, 1, 0, 0, 0, 0, 1, 0, 1, 1, 1, 1, 1, 1, 1, 1,\n",
       "       1, 0, 1, 1, 0, 0, 0, 0, 1, 1, 0, 0, 0, 1, 0, 0, 0])"
      ]
     },
     "execution_count": 125,
     "metadata": {},
     "output_type": "execute_result"
    }
   ],
   "source": [
    "#Use a trained model to make predictions\n",
    "clf.predict(X_test)"
   ]
  },
  {
   "cell_type": "code",
   "execution_count": 126,
   "id": "fee24647-147d-4fac-88de-0fcf24b06e6a",
   "metadata": {},
   "outputs": [
    {
     "data": {
      "text/plain": [
       "np.float64(0.8524590163934426)"
      ]
     },
     "execution_count": 126,
     "metadata": {},
     "output_type": "execute_result"
    }
   ],
   "source": [
    "#Compare predictions to trusth labels to evaluate the model\n",
    "y_preds = clf.predict(X_test)\n",
    "np.mean(y_preds == y_test)"
   ]
  },
  {
   "cell_type": "code",
   "execution_count": 127,
   "id": "33697480-2df6-4104-9acf-42d7463bbc82",
   "metadata": {},
   "outputs": [
    {
     "data": {
      "text/plain": [
       "0.8524590163934426"
      ]
     },
     "execution_count": 127,
     "metadata": {},
     "output_type": "execute_result"
    }
   ],
   "source": [
    "clf.score(X_test,y_test)"
   ]
  },
  {
   "cell_type": "code",
   "execution_count": 133,
   "id": "0ef81ee6-48b3-4ac8-80a4-79293a89e098",
   "metadata": {},
   "outputs": [],
   "source": [
    "from sklearn.metrics import accuracy_score\n",
    "accuracy_score = (X_test,y_test)"
   ]
  },
  {
   "cell_type": "code",
   "execution_count": 136,
   "id": "a81384b1-f49b-4358-a7e2-5656c6681add",
   "metadata": {},
   "outputs": [
    {
     "data": {
      "text/plain": [
       "array([[0.89, 0.11],\n",
       "       [0.49, 0.51],\n",
       "       [0.43, 0.57],\n",
       "       [0.84, 0.16],\n",
       "       [0.18, 0.82]])"
      ]
     },
     "execution_count": 136,
     "metadata": {},
     "output_type": "execute_result"
    }
   ],
   "source": [
    "#predict_proba() returns probabilities of a cassification label\n",
    "clf.predict_proba(X_test[:5])"
   ]
  },
  {
   "cell_type": "code",
   "execution_count": 137,
   "id": "50b3559b-3121-48e9-bdb1-e24e563fef02",
   "metadata": {},
   "outputs": [
    {
     "data": {
      "text/plain": [
       "array([0, 1, 1, 0, 1])"
      ]
     },
     "execution_count": 137,
     "metadata": {},
     "output_type": "execute_result"
    }
   ],
   "source": [
    "#Let's predict on the same data\n",
    "clf.predict(X_test[:5])"
   ]
  },
  {
   "cell_type": "code",
   "execution_count": null,
   "id": "c296d684-d6a0-4ab1-a111-f6bfeb56e3d3",
   "metadata": {},
   "outputs": [],
   "source": []
  }
 ],
 "metadata": {
  "kernelspec": {
   "display_name": "Python 3 (ipykernel)",
   "language": "python",
   "name": "python3"
  },
  "language_info": {
   "codemirror_mode": {
    "name": "ipython",
    "version": 3
   },
   "file_extension": ".py",
   "mimetype": "text/x-python",
   "name": "python",
   "nbconvert_exporter": "python",
   "pygments_lexer": "ipython3",
   "version": "3.12.7"
  }
 },
 "nbformat": 4,
 "nbformat_minor": 5
}
